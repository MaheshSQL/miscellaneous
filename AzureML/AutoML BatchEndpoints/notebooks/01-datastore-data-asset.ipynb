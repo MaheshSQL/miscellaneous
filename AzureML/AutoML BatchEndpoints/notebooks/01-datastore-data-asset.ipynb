{
 "cells": [
  {
   "cell_type": "markdown",
   "id": "d55cdf33-c0dd-434e-be87-c6c62b4f9615",
   "metadata": {},
   "source": [
    "Kernel: Python 3.10 - SDK v2"
   ]
  },
  {
   "cell_type": "markdown",
   "id": "574d33b3-be40-4f77-b3f8-6b5ddcf484d1",
   "metadata": {},
   "source": [
    "### Imports"
   ]
  },
  {
   "cell_type": "code",
   "execution_count": null,
   "id": "dfbeee2f-e01b-4c4a-9554-187fc802e594",
   "metadata": {
    "tags": []
   },
   "outputs": [],
   "source": [
    "# import required libraries\n",
    "from azure.ai.ml import MLClient\n",
    "from azure.identity import DefaultAzureCredential\n",
    "from azure.ai.ml import command, Input\n",
    "from azure.ai.ml.entities import (\n",
    "    AzureBlobDatastore,\n",
    "    AzureFileDatastore,\n",
    "    AzureDataLakeGen1Datastore,\n",
    "    AzureDataLakeGen2Datastore,\n",
    "    AccountKeyConfiguration\n",
    ")\n",
    "\n",
    "from azure.ai.ml.entities import Environment"
   ]
  },
  {
   "cell_type": "code",
   "execution_count": null,
   "id": "e3709da9-0634-4bb7-b011-d9f4d6d323d7",
   "metadata": {
    "tags": []
   },
   "outputs": [],
   "source": [
    "from azure.ai.ml.entities import Data\n",
    "from azure.ai.ml.constants import AssetTypes"
   ]
  },
  {
   "cell_type": "code",
   "execution_count": null,
   "id": "6679e278-8a2d-4b6f-8a22-1823ca7a779e",
   "metadata": {
    "tags": []
   },
   "outputs": [],
   "source": [
    "from azure.identity import DefaultAzureCredential\n",
    "from azure.keyvault.secrets import SecretClient"
   ]
  },
  {
   "cell_type": "markdown",
   "id": "fdbba1ad-6921-4079-9da4-8021e8295105",
   "metadata": {},
   "source": [
    "### Config"
   ]
  },
  {
   "cell_type": "code",
   "execution_count": null,
   "id": "549fb0b8-21e0-4ff2-9b13-51613adf0ad8",
   "metadata": {
    "tags": []
   },
   "outputs": [],
   "source": [
    "# Details of AML workspace\n",
    "subscription_id = 'XXXXX-XXXXX-XXXXX-XXXXX-XXXXX'\n",
    "resource_group = 'rg-XXXXX-XXXXX'\n",
    "workspace = 'aml-XXXXX-XXXXX'"
   ]
  },
  {
   "cell_type": "code",
   "execution_count": null,
   "id": "c4aaf321-47e4-4752-bb79-b684dda27238",
   "metadata": {
    "tags": []
   },
   "outputs": [],
   "source": [
    "# Datastore\n",
    "datastore_name = 'XXXXX_demo17'\n",
    "storage_account_name = 'XXXXX'\n",
    "storage_container_name = 'demo17'"
   ]
  },
  {
   "cell_type": "code",
   "execution_count": null,
   "id": "cedd18ff-6fdc-4e70-ad98-06647631b876",
   "metadata": {
    "tags": []
   },
   "outputs": [],
   "source": [
    "account_key_name = 'storagekey2' # Stored in AzureML workspace key vault"
   ]
  },
  {
   "cell_type": "code",
   "execution_count": null,
   "id": "d098bd8a-c826-41cb-b983-8845e747dbdf",
   "metadata": {
    "tags": []
   },
   "outputs": [],
   "source": [
    "# Data asset\n",
    "data_asset_name = 'Australian_Vehicle_Prices'\n",
    "data_asset_version = '1'\n",
    "file_path = 'training/Australian Vehicle Prices.csv'\n",
    "# path = f'wasbs://{storage_container_name}@{storage_account_name}.blob.core.windows.net/{file_path}'\n",
    "path = f'azureml://datastores/{datastore_name}/paths/{file_path}'\n",
    "path_dir = os.path.dirname(path)\n",
    "\n",
    "print(f'path: {path}')\n",
    "print(f'path_dir: {path_dir}')"
   ]
  },
  {
   "cell_type": "markdown",
   "id": "06e648ac-1181-4065-8716-327856c755b6",
   "metadata": {},
   "source": [
    "### Get workspace handle"
   ]
  },
  {
   "cell_type": "code",
   "execution_count": null,
   "id": "c0182e99-ba25-44b8-aa6b-5c2aec7a9032",
   "metadata": {
    "tags": []
   },
   "outputs": [],
   "source": [
    "# get a handle to the workspace\n",
    "ml_client = MLClient(\n",
    "    DefaultAzureCredential(), subscription_id, resource_group, workspace\n",
    ")\n",
    "print(f'Workspace handle retrieved')"
   ]
  },
  {
   "cell_type": "code",
   "execution_count": null,
   "id": "1428ed4f-a6c7-4c4d-99f0-3b17209aa06d",
   "metadata": {
    "tags": []
   },
   "outputs": [],
   "source": [
    "aml_workspace = ml_client.workspaces.get(workspace)\n",
    "# aml_workspace.key_vault"
   ]
  },
  {
   "cell_type": "markdown",
   "id": "fff64b1c-68e7-45ac-af5c-fdc82e93cd7f",
   "metadata": {
    "tags": []
   },
   "source": [
    "Key Vault"
   ]
  },
  {
   "cell_type": "code",
   "execution_count": null,
   "id": "c6db4ab4-4b29-42bb-a09a-3100c83412f2",
   "metadata": {
    "tags": []
   },
   "outputs": [],
   "source": [
    "# Get secret from the keyvault\n",
    "\n",
    "key_vault_name = aml_workspace.key_vault.split('/')[-1]\n",
    "# print(f'key_vault_name: {key_vault_name}')\n",
    "\n",
    "# Construct Key Vault URL\n",
    "key_vault_url = f'https://{key_vault_name}.vault.azure.net/'\n",
    "\n",
    "# Create a SecretClient\n",
    "secret_client = SecretClient(vault_url=key_vault_url, credential=DefaultAzureCredential())\n",
    "\n",
    "storage_secret = secret_client.get_secret(account_key_name).value\n",
    "# print(storage_secret)"
   ]
  },
  {
   "cell_type": "markdown",
   "id": "80454a84-a92f-4387-87a4-fa52da412198",
   "metadata": {},
   "source": [
    "### Create datastore\n",
    "Account key"
   ]
  },
  {
   "cell_type": "code",
   "execution_count": null,
   "id": "cd7b28bd-df35-4d59-a8d8-a2eb3af6032d",
   "metadata": {
    "tags": []
   },
   "outputs": [],
   "source": [
    "# create a credential-less datastore pointing to a blob container\n",
    "blob_credless_datastore = AzureBlobDatastore(\n",
    "    name=datastore_name,\n",
    "    description=datastore_name,\n",
    "    account_name=storage_account_name,\n",
    "    container_name=storage_container_name,\n",
    "    credentials = AccountKeyConfiguration(account_key = storage_secret)\n",
    ")\n",
    "\n",
    "ml_client.create_or_update(blob_credless_datastore)\n",
    "print(f'Datastore {datastore_name} created.')"
   ]
  },
  {
   "cell_type": "markdown",
   "id": "c9ef2076-7c9f-422d-9caa-9c408d26feb4",
   "metadata": {},
   "source": [
    "### Create data asset"
   ]
  },
  {
   "cell_type": "code",
   "execution_count": null,
   "id": "bd1ce1e5-2054-4aba-8bd1-056ac9d463c0",
   "metadata": {
    "tags": []
   },
   "outputs": [],
   "source": [
    "# already_exists_flag = False\n",
    "\n",
    "# try:\n",
    "#     data_asset = ml_client.data.get(name = data_asset_name, version = data_asset_version)\n",
    "#     print(f'Data asset already exists, increment version')\n",
    "#     already_exists_flag = True\n",
    "# except Exception as e:  \n",
    "#     # print(e)\n",
    "#     print('Run cell below, the Data asset version does not exist')    \n",
    "    \n",
    "# print(f'already_exists_flag:{already_exists_flag}')"
   ]
  },
  {
   "cell_type": "code",
   "execution_count": null,
   "id": "ed0e1f60-2c5c-4cd6-90a7-c5cefcd3139d",
   "metadata": {
    "tags": []
   },
   "outputs": [],
   "source": [
    "# # Register as URI_FILE\n",
    "# if not already_exists_flag:\n",
    "    \n",
    "#     # Set the path, supported paths include:\n",
    "#     # local: './<path>/<file>' (this will be automatically uploaded to cloud storage)\n",
    "#     # blob:  'wasbs://<container_name>@<account_name>.blob.core.windows.net/<path>/<file>'\n",
    "#     # ADLS gen2: 'abfss://<file_system>@<account_name>.dfs.core.windows.net/<path>/<file>'\n",
    "#     # Datastore: 'azureml://datastores/<data_store_name>/paths/<path>/<file>'\n",
    "\n",
    "#     # Define the Data asset object\n",
    "#     data_asset = Data(\n",
    "#         path=path,\n",
    "#         type=AssetTypes.URI_FILE,\n",
    "#         description=file_path,\n",
    "#         name=data_asset_name,\n",
    "#         version=data_asset_version,\n",
    "#     )\n",
    "\n",
    "#     # Create the data asset in the workspace\n",
    "#     ml_client.data.create_or_update(data_asset)\n",
    "\n",
    "#     print(f'Data asset {data_asset_name} created.')\n",
    "# else:\n",
    "#     print(f'Data asset {data_asset_name} with version {data_asset_version} already exists, skipped creation.')"
   ]
  },
  {
   "cell_type": "code",
   "execution_count": null,
   "id": "a3cda9ee-fdd2-4e6b-9636-92e0444265c3",
   "metadata": {},
   "outputs": [],
   "source": [
    "already_exists_flag = False\n",
    "\n",
    "try:\n",
    "    data_asset = ml_client.data.get(name = data_asset_name+'_MLTable', version = data_asset_version)\n",
    "    print(f'Data asset already exists, increment version')\n",
    "    already_exists_flag = True\n",
    "except Exception as e:  \n",
    "    # print(e)\n",
    "    print('Run cell below, the Data asset version does not exist')    \n",
    "    \n",
    "print(f'already_exists_flag:{already_exists_flag}')"
   ]
  },
  {
   "cell_type": "code",
   "execution_count": null,
   "id": "11cb528f-a081-49ca-b9c4-21621e74ccfa",
   "metadata": {
    "tags": []
   },
   "outputs": [],
   "source": [
    "# Register as MLTable\n",
    "if not already_exists_flag:\n",
    "    \n",
    "    # Set the path, supported paths include:\n",
    "    # local: './<path>/<file>' (this will be automatically uploaded to cloud storage)\n",
    "    # blob:  'wasbs://<container_name>@<account_name>.blob.core.windows.net/<path>/<file>'\n",
    "    # ADLS gen2: 'abfss://<file_system>@<account_name>.dfs.core.windows.net/<path>/<file>'\n",
    "    # Datastore: 'azureml://datastores/<data_store_name>/paths/<path>/<file>'\n",
    "\n",
    "    # Define the Data asset object\n",
    "    data_asset = Data(\n",
    "        path=path_dir,\n",
    "        type=AssetTypes.MLTABLE,\n",
    "        description=file_path,\n",
    "        name=data_asset_name+'_MLTable',\n",
    "        version=data_asset_version,\n",
    "    )\n",
    "\n",
    "    # Create the data asset in the workspace\n",
    "    ml_client.data.create_or_update(data_asset)\n",
    "\n",
    "    print(f'Data asset {data_asset_name}_MLTable created.')\n",
    "else:\n",
    "    print(f'Data asset {data_asset_name}_MLTable with version {data_asset_version} already exists, skipped creation.')"
   ]
  }
 ],
 "metadata": {
  "kernelspec": {
   "display_name": "Python 3.10 - SDK v2",
   "language": "python",
   "name": "python310-sdkv2"
  },
  "language_info": {
   "codemirror_mode": {
    "name": "ipython",
    "version": 3
   },
   "file_extension": ".py",
   "mimetype": "text/x-python",
   "name": "python",
   "nbconvert_exporter": "python",
   "pygments_lexer": "ipython3",
   "version": "3.10.14"
  }
 },
 "nbformat": 4,
 "nbformat_minor": 5
}
