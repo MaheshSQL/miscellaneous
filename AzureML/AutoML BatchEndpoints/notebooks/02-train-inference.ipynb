{
 "cells": [
  {
   "cell_type": "markdown",
   "id": "d55cdf33-c0dd-434e-be87-c6c62b4f9615",
   "metadata": {},
   "source": [
    "Kernel: Python 3.10 - SDK v2"
   ]
  },
  {
   "cell_type": "markdown",
   "id": "574d33b3-be40-4f77-b3f8-6b5ddcf484d1",
   "metadata": {},
   "source": [
    "### Imports"
   ]
  },
  {
   "cell_type": "code",
   "execution_count": null,
   "id": "dfbeee2f-e01b-4c4a-9554-187fc802e594",
   "metadata": {
    "tags": []
   },
   "outputs": [],
   "source": [
    "# import required libraries\n",
    "from azure.ai.ml import MLClient, Input, command, Output\n",
    "from azure.identity import DefaultAzureCredential\n",
    "from azure.ai.ml import command, Input\n",
    "from azure.ai.ml.entities import (\n",
    "    AzureBlobDatastore,\n",
    "    AzureFileDatastore,\n",
    "    AzureDataLakeGen1Datastore,\n",
    "    AzureDataLakeGen2Datastore,\n",
    "    AccountKeyConfiguration,\n",
    "    Environment,\n",
    "    BatchEndpoint,\n",
    "    PipelineComponentBatchDeployment,\n",
    "    ModelBatchDeployment,\n",
    "    ModelBatchDeploymentSettings,\n",
    "    BatchRetrySettings\n",
    ")\n",
    "\n",
    "from azure.ai.ml.entities import Environment"
   ]
  },
  {
   "cell_type": "code",
   "execution_count": null,
   "id": "8aefd18e-c7ab-4fd6-9b05-3565e887ce63",
   "metadata": {
    "tags": []
   },
   "outputs": [],
   "source": [
    "from azure.ai.ml.dsl import pipeline\n",
    "from azure.ai.ml.automl import classification, regression\n",
    "from azure.ai.ml.entities._job.automl.tabular import TabularFeaturizationSettings"
   ]
  },
  {
   "cell_type": "code",
   "execution_count": null,
   "id": "e3709da9-0634-4bb7-b011-d9f4d6d323d7",
   "metadata": {
    "tags": []
   },
   "outputs": [],
   "source": [
    "from azure.ai.ml.entities import Data\n",
    "from azure.ai.ml.constants import AssetTypes, BatchDeploymentOutputAction"
   ]
  },
  {
   "cell_type": "code",
   "execution_count": null,
   "id": "6679e278-8a2d-4b6f-8a22-1823ca7a779e",
   "metadata": {
    "tags": []
   },
   "outputs": [],
   "source": [
    "from azure.identity import DefaultAzureCredential\n",
    "from azure.keyvault.secrets import SecretClient"
   ]
  },
  {
   "cell_type": "markdown",
   "id": "fdbba1ad-6921-4079-9da4-8021e8295105",
   "metadata": {},
   "source": [
    "### Config"
   ]
  },
  {
   "cell_type": "code",
   "execution_count": null,
   "id": "549fb0b8-21e0-4ff2-9b13-51613adf0ad8",
   "metadata": {
    "tags": []
   },
   "outputs": [],
   "source": [
    "# Details of AML workspace\n",
    "subscription_id = 'XXXXX-XXXXX-XXXXX-XXXXX-XXXXX'\n",
    "resource_group = 'rg-XXXXX-XXXXX'\n",
    "workspace = 'aml-XXXXX-XXXXX'"
   ]
  },
  {
   "cell_type": "code",
   "execution_count": null,
   "id": "c4aaf321-47e4-4752-bb79-b684dda27238",
   "metadata": {
    "tags": []
   },
   "outputs": [],
   "source": [
    "# Datastore\n",
    "datastore_name = 'XXXXX_demo17'\n",
    "storage_account_name = 'XXXXX'\n",
    "storage_container_name = 'demo17'"
   ]
  },
  {
   "cell_type": "code",
   "execution_count": null,
   "id": "d098bd8a-c826-41cb-b983-8845e747dbdf",
   "metadata": {
    "tags": []
   },
   "outputs": [],
   "source": [
    "# Data asset\n",
    "data_asset_name = 'Australian_Vehicle_Prices'\n",
    "data_asset_version = '2'\n",
    "file_path = 'training/Australian Vehicle Prices.csv'\n",
    "# path = f'wasbs://{storage_container_name}@{storage_account_name}.blob.core.windows.net/{file_path}'\n",
    "path = f'azureml://datastores/{datastore_name}/paths/{file_path}'\n",
    "path_dir = os.path.dirname(path)\n",
    "\n",
    "print(f'path: {path}')\n",
    "print(f'path_dir: {path_dir}')"
   ]
  },
  {
   "cell_type": "code",
   "execution_count": null,
   "id": "494b5ce9-2e0e-4159-8fed-4dc413cc8cfd",
   "metadata": {
    "tags": []
   },
   "outputs": [],
   "source": [
    "conda_file = './environment/preprocessing_env.yaml'"
   ]
  },
  {
   "cell_type": "code",
   "execution_count": null,
   "id": "2f3d343b-0c06-4117-8bc3-3c2ccede09eb",
   "metadata": {
    "tags": []
   },
   "outputs": [],
   "source": [
    "# Existing Azure ML cluster\n",
    "cluster_name = 'cpu-cluster-04' "
   ]
  },
  {
   "cell_type": "markdown",
   "id": "06e648ac-1181-4065-8716-327856c755b6",
   "metadata": {},
   "source": [
    "### Get workspace handle"
   ]
  },
  {
   "cell_type": "code",
   "execution_count": null,
   "id": "c0182e99-ba25-44b8-aa6b-5c2aec7a9032",
   "metadata": {
    "tags": []
   },
   "outputs": [],
   "source": [
    "# get a handle to the workspace\n",
    "ml_client = MLClient(\n",
    "    DefaultAzureCredential(), subscription_id, resource_group, workspace\n",
    ")\n",
    "print(f'Workspace handle retrieved')"
   ]
  },
  {
   "cell_type": "code",
   "execution_count": null,
   "id": "1428ed4f-a6c7-4c4d-99f0-3b17209aa06d",
   "metadata": {
    "tags": []
   },
   "outputs": [],
   "source": [
    "aml_workspace = ml_client.workspaces.get(workspace)\n",
    "# aml_workspace.key_vault"
   ]
  },
  {
   "cell_type": "markdown",
   "id": "08c5cd61-2089-4c5a-bee7-7f2ee84fe2cd",
   "metadata": {},
   "source": [
    "### Create environment"
   ]
  },
  {
   "cell_type": "code",
   "execution_count": null,
   "id": "d6530c47-81cd-4d58-9e5f-2ab3db1b61b9",
   "metadata": {
    "tags": []
   },
   "outputs": [],
   "source": [
    "env_docker_conda = Environment(\n",
    "    image = 'mcr.microsoft.com/azureml/openmpi4.1.0-ubuntu20.04',\n",
    "    conda_file= conda_file,\n",
    "    name= 'automl-train-pipeline-custom-environment',\n",
    "    description=\"Environment created from a Docker image plus Conda environment.\",\n",
    ")"
   ]
  },
  {
   "cell_type": "code",
   "execution_count": null,
   "id": "03dc35b1-4cf3-491c-9e1d-bada9415fbe7",
   "metadata": {
    "tags": []
   },
   "outputs": [],
   "source": [
    "%%time\n",
    "\n",
    "print('Creating environment')\n",
    "ml_client.environments.create_or_update(env_docker_conda)\n",
    "print('Created environment')"
   ]
  },
  {
   "cell_type": "markdown",
   "id": "a8f04d46-afc9-464f-bacb-ad0c3210632b",
   "metadata": {},
   "source": [
    "### Pipeline"
   ]
  },
  {
   "cell_type": "code",
   "execution_count": null,
   "id": "c0e4315f-de48-4d8a-a39e-ae7e7a812eae",
   "metadata": {
    "tags": []
   },
   "outputs": [],
   "source": [
    "model_base_name=\"automl_regression_06082024\""
   ]
  },
  {
   "cell_type": "code",
   "execution_count": null,
   "id": "33bd1b2d-ab2f-4cfb-89ed-ba63bfe6bb7c",
   "metadata": {},
   "outputs": [],
   "source": [
    "# Define pipeline\n",
    "@pipeline( description=\"AutoML Regression Pipeline\")\n",
    "# def automl_regression(regression_train_data, regression_validation_data, regression_test_data):\n",
    "def automl_regression(regression_train_data: Input(type=AssetTypes.MLTABLE)):\n",
    "    \n",
    "    #----------------------------------------------------------------------------#\n",
    "    # Pre-process\n",
    "    \n",
    "    # define command function for preprocessing the model\n",
    "    preprocessing_command_func = command(\n",
    "        name = 'Prep Data',\n",
    "        inputs=dict(\n",
    "            train_data=Input(type=\"mltable\"),\n",
    "            \n",
    "            # Commenting below as we will create val and test data by splitting train data, see preprocess.py\n",
    "            # validation_data=Input(type=\"mltable\"),\n",
    "            # test_data=Input(type=\"mltable\"),\n",
    "        ),\n",
    "        outputs=dict(\n",
    "            preprocessed_train_data=Output(type=\"mltable\"),\n",
    "            preprocessed_validation_data=Output(type=\"mltable\"),\n",
    "            preprocessed_test_data=Output(type=\"mltable\"),\n",
    "        ),\n",
    "        code=\"./scripts/preprocess.py\",\n",
    "        command=\"python preprocess.py \"\n",
    "        + \"--train_data ${{inputs.train_data}} \"\n",
    "        # + \"--validation_data ${{inputs.validation_data}} \"\n",
    "        # + \"--test_data ${{inputs.test_data}} \"\n",
    "        + \"--preprocessed_train_data ${{outputs.preprocessed_train_data}} \"\n",
    "        + \"--preprocessed_validation_data ${{outputs.preprocessed_validation_data}} \"\n",
    "        + \"--preprocessed_test_data ${{outputs.preprocessed_test_data}}\",\n",
    "        environment = 'automl-train-pipeline-custom-environment@latest',\n",
    "        is_deterministic = False # Don't reuse previous run output\n",
    "    )    \n",
    "    \n",
    "    preprocess_node = preprocessing_command_func(\n",
    "        train_data=regression_train_data,\n",
    "        \n",
    "        # Commenting below as we will create val and test data by splitting train data, see preprocess.py\n",
    "        # validation_data=regression_validation_data,\n",
    "        # test_data=regression_test_data,\n",
    "    )\n",
    "\n",
    "    #----------------------------------------------------------------------------#\n",
    "    # AutoML: Regression\n",
    "    \n",
    "    # define the AutoML regression task with AutoML function\n",
    "    regression_node = regression(\n",
    "        primary_metric=\"r2_score\",\n",
    "        target_column_name=\"Price\",\n",
    "        training_data=preprocess_node.outputs.preprocessed_train_data,\n",
    "        validation_data=preprocess_node.outputs.preprocessed_validation_data,\n",
    "        test_data=preprocess_node.outputs.preprocessed_test_data,\n",
    "        featurization=TabularFeaturizationSettings(mode=\"AUTO\"),\n",
    "        # currently need to specify outputs \"mlflow_model\" explicitly to reference it in following nodes\n",
    "        outputs={\"best_model\": Output(type=\"mlflow_model\")},\n",
    "    )\n",
    "    # set limits & training\n",
    "    regression_node.set_limits(enable_early_termination = True, \n",
    "                               max_trials=5,\n",
    "                               max_concurrent_trials=2,\n",
    "                               timeout_minutes = 30,\n",
    "                               trial_timeout_minutes = 25\n",
    "                              )\n",
    "    regression_node.set_training(\n",
    "        blocked_training_algorithms = None,\n",
    "        enable_stack_ensemble=False, enable_vote_ensemble=False\n",
    "    )\n",
    "    \n",
    "    #----------------------------------------------------------------------------#\n",
    "    # Register model\n",
    "\n",
    "    # define command function for registering the model\n",
    "    command_func = command(\n",
    "        name = 'Register Model',\n",
    "        inputs=dict(\n",
    "            model_input_path=Input(type=\"mlflow_model\"),\n",
    "            model_base_name=model_base_name,\n",
    "        ),\n",
    "        code=\"./scripts/register.py\",\n",
    "        command=\"python register.py \"\n",
    "        + \"--model_input_path ${{inputs.model_input_path}} \"\n",
    "        + \"--model_base_name ${{inputs.model_base_name}}\",\n",
    "        environment=\"azureml://registries/azureml/environments/sklearn-1.5/labels/latest\",\n",
    "        is_deterministic = False # Don't reuse previous run output\n",
    "    )\n",
    "    \n",
    "    register_model = command_func(model_input_path=regression_node.outputs.best_model)\n",
    "    \n",
    "    #----------------------------------------------------------------------------#"
   ]
  },
  {
   "cell_type": "code",
   "execution_count": null,
   "id": "340bfc83-d734-4107-9107-ae9e5065e574",
   "metadata": {},
   "outputs": [],
   "source": [
    "pipeline_regression = automl_regression(\n",
    "    # regression_train_data=Input(path=\"./training-mltable-folder/\", type=\"mltable\"),\n",
    "    regression_train_data=Input(path=path_dir, type=\"mltable\"), # Using datastore path, not local file\n",
    "    \n",
    "    \n",
    "    # Commenting below as we will create val and test data by splitting train data, see preprocess.py\n",
    "    # regression_validation_data=Input(path=\"./validation-mltable-folder/\", type=\"mltable\"),\n",
    "    # regression_test_data=Input(path=\"./test-mltable-folder/\", type=\"mltable\"),\n",
    ")"
   ]
  },
  {
   "cell_type": "code",
   "execution_count": null,
   "id": "b94b9b08-f7f9-414a-8f83-ed9d44a1c442",
   "metadata": {},
   "outputs": [],
   "source": [
    "# set pipeline level compute\n",
    "pipeline_regression.settings.default_compute = cluster_name"
   ]
  },
  {
   "cell_type": "markdown",
   "id": "5769cbcf-2d33-4af9-8ad3-cbd5ad35e2d5",
   "metadata": {},
   "source": [
    "### Submit pipeline"
   ]
  },
  {
   "cell_type": "code",
   "execution_count": null,
   "id": "c8c7e163-fc39-4dab-9f0c-1087af394140",
   "metadata": {
    "tags": []
   },
   "outputs": [],
   "source": [
    "experiment_name = 'automl_regression_train_pipeline_06082024'"
   ]
  },
  {
   "cell_type": "code",
   "execution_count": null,
   "id": "8f46236c-d34b-46ab-884c-4cc126994228",
   "metadata": {},
   "outputs": [],
   "source": [
    "# submit the pipeline job\n",
    "pipeline_job = ml_client.jobs.create_or_update(\n",
    "    pipeline_regression, experiment_name = experiment_name\n",
    ")\n",
    "\n",
    "print(f'Experiment submitted')"
   ]
  },
  {
   "cell_type": "code",
   "execution_count": null,
   "id": "98c1a70d-f921-4e50-a34e-e3417f38a23f",
   "metadata": {},
   "outputs": [],
   "source": [
    "pipeline_job"
   ]
  },
  {
   "cell_type": "code",
   "execution_count": null,
   "id": "d28d7269-b610-4d31-a853-fb70f783fe2d",
   "metadata": {
    "tags": []
   },
   "outputs": [],
   "source": [
    "# Wait until the job completes\n",
    "ml_client.jobs.stream(pipeline_job.name)"
   ]
  },
  {
   "cell_type": "markdown",
   "id": "5af0e76c-45aa-4233-848d-b55a773cd174",
   "metadata": {},
   "source": [
    "### Create Batch Endpoint - Training"
   ]
  },
  {
   "cell_type": "code",
   "execution_count": null,
   "id": "61ec2404-f50f-4d29-9628-9865e2d17881",
   "metadata": {
    "tags": []
   },
   "outputs": [],
   "source": [
    "# Endpoint name\n",
    "endpoint_name = 'automl-reg-train-batch-endpoint'\n",
    "print(f'endpoint_name: {endpoint_name}')\n",
    "\n",
    "# Max 32 chars length name allowed\n",
    "# len(endpoint_name)"
   ]
  },
  {
   "cell_type": "code",
   "execution_count": null,
   "id": "3fd7a06b-b9bb-4e26-b5d1-77daf4fdbcb7",
   "metadata": {
    "tags": []
   },
   "outputs": [],
   "source": [
    "# Endpoint object\n",
    "endpoint = BatchEndpoint(\n",
    "    name=endpoint_name,\n",
    "    description= 'Batch endpoint for regression training on Australian_Vehicle_Prices dataset'\n",
    ")"
   ]
  },
  {
   "cell_type": "code",
   "execution_count": null,
   "id": "87f065ab-3389-4d02-a347-03857d712135",
   "metadata": {
    "tags": []
   },
   "outputs": [],
   "source": [
    "# Create endpoint\n",
    "ml_client.batch_endpoints.begin_create_or_update(endpoint).result()"
   ]
  },
  {
   "cell_type": "code",
   "execution_count": null,
   "id": "888b81f6-76b4-45ce-be7b-6d84b61b8cb1",
   "metadata": {
    "tags": []
   },
   "outputs": [],
   "source": [
    "# See endpoint details\n",
    "endpoint = ml_client.batch_endpoints.get(name=endpoint_name)\n",
    "print(endpoint)"
   ]
  },
  {
   "cell_type": "markdown",
   "id": "a1e0bab5-7a2d-47da-9ba3-2535d1a99b7c",
   "metadata": {},
   "source": [
    "##### Add deployment - Training"
   ]
  },
  {
   "cell_type": "code",
   "execution_count": null,
   "id": "5ecfacdd-fedf-45f7-b477-479c09ce9a81",
   "metadata": {
    "tags": []
   },
   "outputs": [],
   "source": [
    "# Create component\n",
    "pipeline_component = ml_client.components.create_or_update(\n",
    "    automl_regression().component\n",
    ")"
   ]
  },
  {
   "cell_type": "code",
   "execution_count": null,
   "id": "aec58090-71a8-4546-b2b9-20b860ca12e7",
   "metadata": {
    "tags": []
   },
   "outputs": [],
   "source": [
    "# Configure deployment\n",
    "deployment = PipelineComponentBatchDeployment(\n",
    "    name=\"automl-train\", # 32 chars max\n",
    "    description=\"A deployment for regression training using AutoML\",\n",
    "    endpoint_name=endpoint.name,\n",
    "    component=pipeline_component,\n",
    "    settings={\"continue_on_step_failure\": False, \"default_compute\": cluster_name},\n",
    ")"
   ]
  },
  {
   "cell_type": "code",
   "execution_count": null,
   "id": "fa5b9a5b-fc19-49bd-a390-1f9110018f99",
   "metadata": {
    "tags": []
   },
   "outputs": [],
   "source": [
    "# Create deployment\n",
    "ml_client.batch_deployments.begin_create_or_update(deployment).result()"
   ]
  },
  {
   "cell_type": "code",
   "execution_count": null,
   "id": "b600f795-8a49-4fd8-8496-3d1e036a939d",
   "metadata": {
    "tags": []
   },
   "outputs": [],
   "source": [
    "endpoint = ml_client.batch_endpoints.get(endpoint_name)\n",
    "endpoint.defaults.deployment_name = deployment.name\n",
    "ml_client.batch_endpoints.begin_create_or_update(endpoint).result()"
   ]
  },
  {
   "cell_type": "code",
   "execution_count": null,
   "id": "f6ff6608-7c31-400f-b6a0-bdf040fe713c",
   "metadata": {
    "tags": []
   },
   "outputs": [],
   "source": [
    "print(f\"The default deployment is {endpoint.defaults.deployment_name}\")"
   ]
  },
  {
   "cell_type": "markdown",
   "id": "f206fe50-1d80-4105-8daf-0ab14924522f",
   "metadata": {},
   "source": [
    "### Create Batch Endpoint - Inference"
   ]
  },
  {
   "cell_type": "code",
   "execution_count": null,
   "id": "d5e3ae9c-5453-45a5-aa5f-e4fde35b5d0d",
   "metadata": {
    "tags": []
   },
   "outputs": [],
   "source": [
    "# Endpoint name\n",
    "endpoint_inf_name = 'automl-reg-inf-batch-endpoint'\n",
    "print(f'endpoint_inf_name: {endpoint_inf_name}')\n",
    "\n",
    "# Max 32 chars length name allowed\n",
    "# len(endpoint_inf_name)"
   ]
  },
  {
   "cell_type": "code",
   "execution_count": null,
   "id": "20c116b3-b6d5-4d26-8b8f-b496ba49421c",
   "metadata": {
    "tags": []
   },
   "outputs": [],
   "source": [
    "# Endpoint object\n",
    "endpoint_inf = BatchEndpoint(\n",
    "    name=endpoint_inf_name,\n",
    "    description= 'Batch endpoint for regression inference on Australian_Vehicle_Prices dataset'\n",
    ")"
   ]
  },
  {
   "cell_type": "code",
   "execution_count": null,
   "id": "c1031e76-3455-4a74-8204-1dd7cd6478b7",
   "metadata": {
    "tags": []
   },
   "outputs": [],
   "source": [
    "# Create endpoint\n",
    "ml_client.batch_endpoints.begin_create_or_update(endpoint_inf).result()"
   ]
  },
  {
   "cell_type": "code",
   "execution_count": null,
   "id": "fd244f53-a2f7-432e-8122-3aab979479bc",
   "metadata": {
    "tags": []
   },
   "outputs": [],
   "source": [
    "# See endpoint details\n",
    "endpoint_inf = ml_client.batch_endpoints.get(name=endpoint_inf_name)\n",
    "print(endpoint_inf)"
   ]
  },
  {
   "cell_type": "markdown",
   "id": "748a20ce-a6c5-412e-b8d6-1dc62e5f5217",
   "metadata": {},
   "source": [
    "##### Add deployment - Inference"
   ]
  },
  {
   "cell_type": "code",
   "execution_count": null,
   "id": "326f96dc-3a9c-4687-87b8-08cde1bc2af8",
   "metadata": {
    "tags": []
   },
   "outputs": [],
   "source": [
    "model_latest = ml_client.models.get(name=model_base_name, label=\"latest\")\n",
    "print(f'model_latest.version: {model_latest.version}')"
   ]
  },
  {
   "cell_type": "code",
   "execution_count": null,
   "id": "2c82a5a5-97ac-4b5c-8d43-c386fce3bfb1",
   "metadata": {
    "tags": []
   },
   "outputs": [],
   "source": [
    "# Configure model deployment\n",
    "deployment_inf = ModelBatchDeployment(\n",
    "    name=\"automl-inf\",\n",
    "    description=\"Automl regression model trained previously\",\n",
    "    endpoint_name=endpoint_inf.name,\n",
    "    model=model_latest,\n",
    "    compute=cluster_name,\n",
    "    settings=ModelBatchDeploymentSettings(\n",
    "        instance_count=2,\n",
    "        max_concurrency_per_instance=2,\n",
    "        mini_batch_size=10,\n",
    "        output_action=BatchDeploymentOutputAction.APPEND_ROW,\n",
    "        output_file_name=\"predictions.csv\",\n",
    "        retry_settings=BatchRetrySettings(max_retries=3, timeout=300),\n",
    "        logging_level=\"info\",\n",
    "    ),\n",
    ")"
   ]
  },
  {
   "cell_type": "code",
   "execution_count": null,
   "id": "767c0d51-a4cb-40da-9592-ef46143ae02d",
   "metadata": {
    "tags": []
   },
   "outputs": [],
   "source": [
    "# Create deployment\n",
    "ml_client.batch_deployments.begin_create_or_update(deployment_inf).result()"
   ]
  },
  {
   "cell_type": "code",
   "execution_count": null,
   "id": "bcbb4857-11bf-4637-baba-752083e42eba",
   "metadata": {
    "tags": []
   },
   "outputs": [],
   "source": [
    "# Configure default deployment\n",
    "endpoint_inf = ml_client.batch_endpoints.get(endpoint_inf.name)\n",
    "endpoint_inf.defaults.deployment_name = deployment_inf.name\n",
    "ml_client.batch_endpoints.begin_create_or_update(endpoint_inf).result()"
   ]
  },
  {
   "cell_type": "code",
   "execution_count": null,
   "id": "f054750c-ba9e-4813-887c-13f8d8f10aef",
   "metadata": {
    "tags": []
   },
   "outputs": [],
   "source": [
    "print(f\"The default deployment is {endpoint_inf.defaults.deployment_name}\")"
   ]
  }
 ],
 "metadata": {
  "kernelspec": {
   "display_name": "Python 3.10 - SDK v2",
   "language": "python",
   "name": "python310-sdkv2"
  },
  "language_info": {
   "codemirror_mode": {
    "name": "ipython",
    "version": 3
   },
   "file_extension": ".py",
   "mimetype": "text/x-python",
   "name": "python",
   "nbconvert_exporter": "python",
   "pygments_lexer": "ipython3",
   "version": "3.10.14"
  }
 },
 "nbformat": 4,
 "nbformat_minor": 5
}
