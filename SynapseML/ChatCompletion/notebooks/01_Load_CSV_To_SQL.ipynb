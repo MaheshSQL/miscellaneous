{
  "cells": [
    {
      "cell_type": "markdown",
      "source": [
        "### About\r\n",
        "\r\n",
        "This notebooks imports a CSV dataset into Azure SQL Server table.\r\n"
      ],
      "metadata": {
        "nteract": {
          "transient": {
            "deleting": false
          }
        }
      }
    },
    {
      "cell_type": "code",
      "source": [
        "%%pyspark\r\n",
        "df = spark.read.load('abfss://filesystem@<<Azure Synapse Workspace>>.dfs.core.windows.net/HotelReviews.csv', format='csv'\r\n",
        ", sep = '|'\r\n",
        ", header=True\r\n",
        ")\r\n",
        "display(df.limit(10))"
      ],
      "outputs": [
        {
          "output_type": "display_data",
          "data": {
            "application/vnd.livy.statement-meta+json": {
              "spark_pool": "sparkpool1",
              "session_id": "7",
              "statement_id": 5,
              "state": "finished",
              "livy_statement_state": "available",
              "queued_time": "2023-09-01T09:30:02.9384034Z",
              "session_start_time": null,
              "execution_start_time": "2023-09-01T09:30:03.1015135Z",
              "execution_finish_time": "2023-09-01T09:30:04.9934923Z",
              "spark_jobs": null,
              "parent_msg_id": "432c93c0-9ebe-4dde-a54c-cf8eaf0e226e"
            },
            "text/plain": "StatementMeta(sparkpool1, 7, 5, Finished, Available)"
          },
          "metadata": {}
        },
        {
          "output_type": "display_data",
          "data": {
            "application/vnd.synapse.widget-view+json": {
              "widget_id": "f187bdff-6e89-499b-8225-43a1ee722bbe",
              "widget_type": "Synapse.DataFrame"
            },
            "text/plain": "SynapseWidget(Synapse.DataFrame, f187bdff-6e89-499b-8225-43a1ee722bbe)"
          },
          "metadata": {}
        }
      ],
      "execution_count": 160,
      "metadata": {
        "microsoft": {
          "language": "python"
        },
        "collapsed": false
      }
    },
    {
      "cell_type": "markdown",
      "source": [
        "### Note\r\n",
        "\r\n",
        "Spark MS SQL Connector with spark 3.3\r\n",
        "\r\n",
        "<b>Error</b>: com.microsoft.sqlserver.jdbc.spark\r\n",
        "\r\n",
        "<b>Resolution</b>: \r\n",
        "Download on computer from here: https://repo1.maven.org/maven2/com/microsoft/azure/spark-mssql-connector_2.12/1.3.0-BETA/spark-mssql-connector_2.12-1.3.0-BETA.jar\r\n",
        "\r\n",
        "Then upload to workspace (Manage->Worksspace packages->Upload)\r\n",
        "\r\n",
        "Then add package to spark pool(Manage->Apache spark pool->Select the pool name->click...->Packages and select the uploaded workspace package)\r\n"
      ],
      "metadata": {
        "nteract": {
          "transient": {
            "deleting": false
          }
        }
      }
    },
    {
      "cell_type": "markdown",
      "source": [
        "### SQL Connection Configuration\r\n",
        "\r\n",
        "Ref: https://learn.microsoft.com/en-us/azure/synapse-analytics/spark/data-sources/apache-spark-sql-connector\r\n",
        "\r\n",
        "Ref: https://learn.microsoft.com/en-us/sql/connect/spark/connector?view=sql-server-ver16"
      ],
      "metadata": {
        "nteract": {
          "transient": {
            "deleting": false
          }
        }
      }
    },
    {
      "cell_type": "markdown",
      "source": [
        "#### AKV\r\n",
        "Added as a linked service to the workspace (Granted workspace MI access to AKV)"
      ],
      "metadata": {
        "nteract": {
          "transient": {
            "deleting": false
          }
        }
      }
    },
    {
      "cell_type": "code",
      "source": [
        "# The servername is in the format \"jdbc:sqlserver://<AzureSQLServerName>.database.windows.net:1433\"\r\n",
        "servername = \"jdbc:sqlserver://<<Azure SQL Server>>.database.windows.net:1433\"\r\n",
        "dbname = \"<<Azure SQL DB>>\"\r\n",
        "url = servername + \";\" + \"databaseName=\" + dbname + \";\"\r\n",
        "dbtable = \"(SELECT TOP 5 * FROM Comments_coded) AS Comments_coded\" #Update/remove TOP\r\n",
        "dbtable_out = \"HotelReviews\" #Output table\r\n",
        "user = mssparkutils.credentials.getSecret('<<Azure Key Vault>>','AZSQLUSR')\r\n",
        "password = mssparkutils.credentials.getSecret('<<Azure Key Vault>>','AZSQLPWD')\r\n"
      ],
      "outputs": [
        {
          "output_type": "display_data",
          "data": {
            "application/vnd.livy.statement-meta+json": {
              "spark_pool": "sparkpool1",
              "session_id": "7",
              "statement_id": 6,
              "state": "finished",
              "livy_statement_state": "available",
              "queued_time": "2023-09-01T09:31:49.3547037Z",
              "session_start_time": null,
              "execution_start_time": "2023-09-01T09:31:49.5222538Z",
              "execution_finish_time": "2023-09-01T09:31:51.4073377Z",
              "spark_jobs": null,
              "parent_msg_id": "4bb9df4f-9c96-4a4b-b7b5-981a46bd71c2"
            },
            "text/plain": "StatementMeta(sparkpool1, 7, 6, Finished, Available)"
          },
          "metadata": {}
        }
      ],
      "execution_count": 161,
      "metadata": {
        "jupyter": {
          "source_hidden": false,
          "outputs_hidden": false
        },
        "nteract": {
          "transient": {
            "deleting": false
          }
        }
      }
    },
    {
      "cell_type": "markdown",
      "source": [
        "### Load into Azure SQL table"
      ],
      "metadata": {
        "nteract": {
          "transient": {
            "deleting": false
          }
        }
      }
    },
    {
      "cell_type": "code",
      "source": [
        "try:\r\n",
        "  df.write \\\r\n",
        "    .format(\"com.microsoft.sqlserver.jdbc.spark\") \\\r\n",
        "    .mode(\"overwrite\") \\\r\n",
        "    .option(\"url\", url) \\\r\n",
        "    .option(\"dbtable\", dbtable_out) \\\r\n",
        "    .option(\"user\", user) \\\r\n",
        "    .option(\"password\", password) \\\r\n",
        "    .save()\r\n",
        "except ValueError as error :\r\n",
        "    print(\"MSSQL Connector write failed\", error)\r\n",
        "\r\n",
        "print(\"MSSQL Connector write(overwrite) succeeded  \")"
      ],
      "outputs": [
        {
          "output_type": "display_data",
          "data": {
            "application/vnd.livy.statement-meta+json": {
              "spark_pool": "sparkpool1",
              "session_id": "7",
              "statement_id": 7,
              "state": "finished",
              "livy_statement_state": "available",
              "queued_time": "2023-09-01T09:32:19.27353Z",
              "session_start_time": null,
              "execution_start_time": "2023-09-01T09:32:19.4407199Z",
              "execution_finish_time": "2023-09-01T09:32:24.8355229Z",
              "spark_jobs": null,
              "parent_msg_id": "406a01ab-0c58-4fcf-9292-6d8261e21387"
            },
            "text/plain": "StatementMeta(sparkpool1, 7, 7, Finished, Available)"
          },
          "metadata": {}
        },
        {
          "output_type": "stream",
          "name": "stdout",
          "text": [
            "MSSQL Connector write(overwrite) succeeded  \n"
          ]
        }
      ],
      "execution_count": 162,
      "metadata": {
        "jupyter": {
          "source_hidden": false,
          "outputs_hidden": false
        },
        "nteract": {
          "transient": {
            "deleting": false
          }
        }
      }
    }
  ],
  "metadata": {
    "kernelspec": {
      "name": "synapse_pyspark",
      "display_name": "Synapse PySpark"
    },
    "language_info": {
      "name": "python"
    },
    "description": "Load uploaded HotelReviews.csv into a SQL table to be used in main notebook",
    "save_output": true,
    "synapse_widget": {
      "version": "0.1",
      "state": {
        "f187bdff-6e89-499b-8225-43a1ee722bbe": {
          "type": "Synapse.DataFrame",
          "sync_state": {
            "table": {
              "rows": [
                {
                  "0": "22/11/2009",
                  "1": "uk_england_london_city_hotel",
                  "2": "Good Hotel but a little noisy",
                  "3": "I stayed in the City Hotel in September 2009 for 3 nights. It was my first time in London and I knew that the hotels are very expensive. We didn't want to spend a fortune on the hotel, that's why we decided to stay in the City Hotel. It isn't that close to Downtown, but you can take the tube at Aldgate East which takes you to the city centre. The hotel is clean and the staff mostly friendly. However, we didn't like the bathroom, it was to small! With 3 ladies and everybody has to get dressed this wasn't so much fun. Furthermore, the hotel is located directly on a street, which is noisy also in the night. I had to sleep with my earplugs because even if the window was closed, the room was still noisy!Nevertheless, I would recommend the hotel because it wasn't that expensive and you can be Downtown in a short time. Don't expect luxury, after all it's a 3-star hotel. If you don't stay that much in your hotel room and just come here to sleep, you will like this hotel!"
                },
                {
                  "0": "17/11/2009",
                  "1": "uk_england_london_city_hotel",
                  "2": "A hotel that surpassed expectations.",
                  "3": "The hotel staff could not have been more friendly and welcoming. They all helped us to celebrate a daughter's 30th birthday in style with many special touches. The cocktail lounge had a good buzz. The restaurant served wonderful Asian fusion food with dishes to please any taste. It was all served beautifully and tasted even better. The rooms varied in decor from traditional to loft-type cool and were clean and well equipped. We were in walking district of Brick Lane, Columbia Road flower market and Spitalfields Market which were all great fun on the Sunday. A great place to stay."
                },
                {
                  "0": "3/11/2009",
                  "1": "uk_england_london_city_hotel",
                  "2": "unexpectedly good!",
                  "3": "reception and public areas good, room clean, staff friendly. Didn't try eating there and bar looked lovely though deserted. Very handy location and good value. Room was at the back of the hotel and quiet with a window you could open."
                },
                {
                  "0": "28/10/2009",
                  "1": "uk_england_london_city_hotel",
                  "2": "Don't be put off!!!",
                  "3": "Don't let other people's reviews put you off booking this hotel. We arrived by car and my heart sank when we turned the corner into Osborne Street and saw the hotel but once inside I forgot how run down the street looked. The reception was welcoming with friendly staff and booking-in took a matter of minutes. We'd booked two rooms, one for me and my husband and one for our son. His room was on the third floor which obviously hasn't been refurbished yet and looked rather 'tired', especially the bathroom, but everything was clean. Our room was at the top of the hotel which was obviously the new extension and was quite contemporary. The bathroom was quite small and functional but with a lack of shelving for toiletries etc. but lovely white fluffy towels. The beds were comfortable with crisp white sheets but no extra pillows provided. Again, nowhere in the room to put cosmetics, toiletries etc and it could benefit from a chest of drawers or similar.The rate we paid did not include breakfast but there was a special rate of �7.95 each (usually �9.95) if we ordered and paid for breakfast on arrival. This we did and it was very good value for money. There was a hot and cold buffet with a good choice of dishes and there is no excuse for anyone going hungry. Another bonus is the secure, on site car park, although there is an additional charge for this but it is worth it .The views from the front bedroom windows leave a lot to be desired but we weren't there for the view and the hotel is well placed, being 2 minutes from Aldgate underground station and only 10 minutes walk from The Tower of London and Tower Bridge.We felt perfectly safe walking back to the hotel late at night.All in all this is a very good city hotel and although the full room rate could be considered high for this type of hotel in this run down location, there are always discounted rates to be found and I doubt that anyone actually pays the full rate. We paid �59 per room (+ breakfast) which was an absolute bargain for a London hotel.Would definitely stay again without hesitation."
                },
                {
                  "0": "2/09/2009",
                  "1": "uk_england_london_city_hotel",
                  "2": "Don't go here",
                  "3": "On first walking into the room I was pleasantly surprised. The room was larger than expected, bright and airy and there was a large flat screen tv. However, the beds were very uncomfortable - don't come here if you need a good nights sleep. Pillows and mattress were rock hard, and the air con and fridge made strange noises all through the night. Also, don't be tempted to eat in the restaurant by the claims that you get 50% off food and 20% off drinks. Me and my boyfriend are both students so dont have a lot of money, being told that as hotel guests we would get money off encouraged us to go into the hotel restaurant. However, after ordering food and drinks, one of the waiters came over with the bill, saying that we could not get 50% off, and also did not take the 20% off the drinks. There is also a &quot;service charge&quot; which he explained was a charge that every table had to pay for the waiters to get the food from the bar kitchen. But this was a RESTAURANT, the waiters are expected to bring you your food surely?. He expected a tip as well as the service charge. In the end he took the service charge off the bill, but not the 20% and 50% off the food and drinks. So we ended up paying a lot of money for the things we ordered - the food was ridiculously overpriced. Would not be surprised if he kept the money that he should have taken off our food and drink for himself as his tip.The location was not that great. Was only a couple of minutes walk from Aldgate East tube station, but I didnt feel very safe walking just this short distance to the hotel.Would not recommend"
                },
                {
                  "0": "29/08/2009",
                  "1": "uk_england_london_city_hotel",
                  "2": "Surprise",
                  "3": "Booked this hotel, then read the reviews and was very worried about what might lie ahead. But on arrival found the reception staff to be very friendly and helpful and check in efficient. The room I was allocated was at the back of the hotel and was very quiet. Lovely comfy bed, big T.V. fridge, bathroom...all spotlessly clean. No problem with the toilet. Towels etc changed daily. Breakfast is available in the hotel, but there are lots of coffee shops in the area if that is your preference. Lots of interesting places to eat in the area as well, not just in Brick Lane but around the Spitalfields market area too. The nearest tube is about one minute away and it is also possible to walk to the Tower of London area. Thought this was a great place to stay, it was good value and good location."
                },
                {
                  "0": "20/08/2009",
                  "1": "uk_england_london_city_hotel",
                  "2": "This hotel is fantastic! You will not be disappointed.",
                  "3": "I was also worried about this hotel after reading the previous reviews. My mind was put to rest as soon as I walked into reception and had a warm welcome. Checking in took just a few minutes, whilst sharing a joke with the clerk. I was soon outside my room door and hesitantly put my key card in and opened the door....to a large, clean, modern room. LCD TV on the wall..a double and single bed (all for just me!) and even today's paper, with the latest editions of two well known magazines left out.Heading down to the trendy bar I relaxed in comfort before heading back to my room and fell asleep on the comfy bed.I rang down to reception to get my room safe opened and within minutes the maintenance guy was at my door and very professionally showed me how to operate it. I felt safe at all times in this hotel and found the service was extremely pleasant and good natured.Some people have commented that the surrounding area is not as safe as some areas. I would not really agree, the area IS very blue collar but so long as you follow the same rules for personal safety as you would anywhere you will be fine. The tube station (Aldgate East) is literally a one minute walk away. In fact, I think the area has much more to offer in terms of diversity than other more mainstream areas of London. If you like curry you'll be spoilt for choice. I have to say that I love my curry and head the best curry of my life (and a free drink!) at one of the restaurants on brick lane."
                },
                {
                  "0": "17/08/2009",
                  "1": "uk_england_london_city_hotel",
                  "2": "Hard to believe why this hotel gets bad reviews!!!!",
                  "3": "First of all, like others i read previous reviews on this hotel and was really worried on staying there as i was with my wife and 9 year old daughter. when we arrived we were plesently surprised how close this was to the aldgate east tube station and when we booked in to the hotel the reception were very nice and efficent. The hotel was lovely in the reception area and when we were issued with the room key i was thinking to myself here we go, But once again i have to say the rooms were beautiful and clean, they seemed to be doing all the rooms up and to be honest i think we were the first in this room after it had been decorated. we had air con and a 32 inch lcd tv on the wall, 1 double bed and a single bed (room 418 by the way). bathroom was decorated nicely and it was clean and all facillities worked. rooms were cleaned every day and fresh towels every day as well. food in the lane bar was a bit expensive but when you walk out the front door there is plenty of resturants either side of brick lane, (hope you like indian food as there is plenty of those resturants as well.) we stayed for four nights and really enjoyed every moment in london, as i said before aldgate east tube station right beside you so you have no worries about walking far to get anywhere. will defiently be back to london again and would reccomend this hotel to anyone. Hope this will put your mind at ease as other reviews can be very worring. Have a nice stay!!!!!!!!!!!!!!!!!!"
                },
                {
                  "0": "29/07/2009",
                  "1": "uk_england_london_city_hotel",
                  "2": "Worst Hotel Ever!",
                  "3": "Firstly I was little skeptical about booking this hotel after reading the reviews. But each one of them were right as I could see it for myself during our stay. I still went through the booking as my 65 year old parents wont have to walk a lot to get to the tube station nearby.The location is Blue Collar filled with bangladeshi restaurants and some were good others looked like it needed a cleanup. Our room was on the second floor and since we booked on weekdays none of the DJ music downstairs disturbed us. Although there was this teenager who used to stop by the restaurant downstairs everynight blarring loud music in his car. I really wanted to call the police as it was so annoying. I realised I cant expect that area to be perfect. I could see the Ibis just nearby and god I wished I stayed there. The three days we stayed there the service was teribble. With the exception of a plumber who was so nice to speak to and guided us about the local transportation, he came to repair our toilet which as you have already read in other reviews was not working. The reception staff were the well mannered but looked like they were going to jump on you any minute and we felt like we wereint welcome to ask anything else except to pay them. Although the bar downstairs was not a problem to us, everything during our 3 day stay were filled with issues. If you could afford a little bit more stay at the Ibis which is very close to this hotel."
                },
                {
                  "0": "19/07/2009",
                  "1": "uk_england_london_city_hotel",
                  "2": "It really depends on what you want in London",
                  "3": "I booked the hotel before I read many of the negative comments of the City Hotel from Tripadvisor and felt panic. But it turned out quite all right after we checked in, except one really HUGE turn off-- the toilet didn't work and the gaga couldn't be flushed down. The porter was quite helpful and finally made the toilet work again. But it's really the number one scary hotel scene in my life. It was not noisy at all in our room and no party downstairs. But the soundproof of the wall was not good therefore we could hear the banging sound of door slamming of our neighbors the the second night when they checked in. The TV in the room did not work at all, so we ended up sleeping early and saved our energies for sightseeing the whole day time. The good thing about this hotel is it's location and the cleanness. It's very close to Aldgate East station so it's very easy to go around London city by tube. I appreciate the cleanness the hotel staff did their best to maintain, however I think the best way to give it an overall upgrade is to renovate its rooms. Many comments here say the best of this hotel is its cheap price. But I ended up paying more through expedia.com. I suggest people avoid the booking system of expedia since I find the price fluctuation can be very tricky. The internet is cheap and convenient (compared to that of Comfort Inn we stay for the last two nights in London). So, overall, I think this will be a good hotel if you're a frugal student on budget with a bunch of friends to have a good time in London. But if you're a couple, the hotel could kill the romantic aura quite instantly....."
                }
              ],
              "schema": [
                {
                  "key": "0",
                  "name": "Date",
                  "type": "string"
                },
                {
                  "key": "1",
                  "name": "Hotel",
                  "type": "string"
                },
                {
                  "key": "2",
                  "name": "Highlights",
                  "type": "string"
                },
                {
                  "key": "3",
                  "name": "Review Comments",
                  "type": "string"
                }
              ],
              "truncated": false
            },
            "isSummary": false,
            "language": "scala"
          },
          "persist_state": {
            "view": {
              "type": "details",
              "tableOptions": {},
              "chartOptions": {
                "chartType": "bar",
                "aggregationType": "count",
                "categoryFieldKeys": [
                  "0"
                ],
                "seriesFieldKeys": [
                  "0"
                ],
                "isStacked": false
              }
            }
          }
        }
      }
    }
  },
  "nbformat": 4,
  "nbformat_minor": 2
}